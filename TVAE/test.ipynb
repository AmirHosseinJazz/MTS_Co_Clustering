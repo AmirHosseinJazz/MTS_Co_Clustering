{
 "cells": [
  {
   "cell_type": "code",
   "execution_count": 1,
   "metadata": {},
   "outputs": [],
   "source": [
    "import os\n",
    "import numpy as np\n",
    "import torch\n",
    "from torch.utils.data import DataLoader, TensorDataset\n",
    "import torch.optim as optim\n",
    "import wandb\n",
    "from util import load_data\n",
    "from dataset import TimeVAEdataset\n",
    "from TimeVAE import TimeVAE\n",
    "import argparse\n",
    "\n"
   ]
  },
  {
   "cell_type": "code",
   "execution_count": 2,
   "metadata": {},
   "outputs": [
    {
     "name": "stdout",
     "output_type": "stream",
     "text": [
      "Number of samples: 180\n",
      "Shape of _samples: (180, 120, 24)\n",
      "Parameter Sequence Length: 120\n",
      "Parameter Number of Features: 24\n"
     ]
    }
   ],
   "source": [
    "params={'data_source': '29var', 'batch_size': 20, 'device': 'cpu', 'epochs': 100, 'latent_dim': 64, 'lr': 0.001, 'break_data': False, 'break_size': 60, 'leave_out_problematic_features': True, 'cutoff_data': True, 'feat_dim': 24, 'seq_len': 120, 'num_samples': 180, 'trend_poly': 2, 'custom_seas': [(4, 8)], 'reconstruction_wt': 3.0, 'hidden_layer_sizes': [50, 100, 200]}\n",
    "if params[\"data_source\"] == \"29var\":\n",
    "    data = load_data(\n",
    "        \"../Data/PreProcessed/29var/df29.xlsx\",\n",
    "        break_to_smaller=params[\"break_data\"],\n",
    "        break_size=params[\"break_size\"],\n",
    "        leave_out_problematic_features=params[\"leave_out_problematic_features\"],\n",
    "        cutoff_data=params[\"cutoff_data\"],\n",
    "    )\n",
    "elif params[\"data_source\"] == \"12var\":\n",
    "    data = load_data(\n",
    "        \"../Data/PreProcessed/12var/df12.xlsx\",\n",
    "        break_to_smaller=params[\"break_data\"],\n",
    "        break_size=params[\"break_size\"],\n",
    "        leave_out_problematic_features=params[\"leave_out_problematic_features\"],\n",
    "        cutoff_data=params[\"cutoff_data\"],\n",
    "    )\n",
    "else:\n",
    "    raise ValueError(\"Unsupported data source. Use 12var or 29var\")\n",
    "###\n",
    "sequence_length = data.shape[1]\n",
    "print(\"Parameter Sequence Length:\", sequence_length)\n",
    "number_of_features = data.shape[2]\n",
    "print(\"Parameter Number of Features:\", number_of_features)\n",
    "\n",
    "dataset = TimeVAEdataset(data)\n",
    "params[\"feat_dim\"] = number_of_features\n",
    "params[\"seq_len\"] = sequence_length\n",
    "params[\"num_samples\"] = data.shape[0]\n",
    "train_loader = torch.utils.data.DataLoader(\n",
    "    dataset, batch_size=params[\"batch_size\"], shuffle=True\n",
    ")\n",
    "test_loader = torch.utils.data.DataLoader(\n",
    "    dataset, batch_size=params[\"batch_size\"], shuffle=True\n",
    ")\n",
    "params[\"trend_poly\"] = 2\n",
    "params[\"custom_seas\"] = [(4, 8)]\n",
    "params[\"reconstruction_wt\"] = 3.0\n",
    "params[\"hidden_layer_sizes\"] = [50, 100, 200]"
   ]
  },
  {
   "cell_type": "code",
   "execution_count": null,
   "metadata": {},
   "outputs": [],
   "source": [
    "model=TimeVAE(params)"
   ]
  },
  {
   "cell_type": "code",
   "execution_count": null,
   "metadata": {},
   "outputs": [],
   "source": [
    "for epoch in range(100):\n",
    "    for batch, data in enumerate(train_loader):\n",
    "        break"
   ]
  },
  {
   "cell_type": "code",
   "execution_count": null,
   "metadata": {},
   "outputs": [],
   "source": [
    "for batch in train_loader:\n",
    "    print(batch)"
   ]
  },
  {
   "cell_type": "code",
   "execution_count": null,
   "metadata": {},
   "outputs": [],
   "source": [
    "z1,z2,z3=model.encoder(data)"
   ]
  },
  {
   "cell_type": "code",
   "execution_count": null,
   "metadata": {},
   "outputs": [],
   "source": [
    "z=model._reparameterize(z1,z2)"
   ]
  },
  {
   "cell_type": "code",
   "execution_count": null,
   "metadata": {},
   "outputs": [],
   "source": [
    "z"
   ]
  },
  {
   "cell_type": "code",
   "execution_count": null,
   "metadata": {},
   "outputs": [],
   "source": [
    "model.decoder(z)"
   ]
  },
  {
   "cell_type": "code",
   "execution_count": null,
   "metadata": {},
   "outputs": [],
   "source": []
  }
 ],
 "metadata": {
  "kernelspec": {
   "display_name": "mikasa",
   "language": "python",
   "name": "python3"
  },
  "language_info": {
   "codemirror_mode": {
    "name": "ipython",
    "version": 3
   },
   "file_extension": ".py",
   "mimetype": "text/x-python",
   "name": "python",
   "nbconvert_exporter": "python",
   "pygments_lexer": "ipython3",
   "version": "3.11.5"
  }
 },
 "nbformat": 4,
 "nbformat_minor": 2
}

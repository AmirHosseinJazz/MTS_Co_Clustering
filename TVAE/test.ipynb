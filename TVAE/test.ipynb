{
 "cells": [
  {
   "cell_type": "code",
   "execution_count": 1,
   "metadata": {},
   "outputs": [],
   "source": [
    "import os\n",
    "import numpy as np\n",
    "import torch\n",
    "from torch.utils.data import DataLoader, TensorDataset\n",
    "import torch.optim as optim\n",
    "import wandb\n",
    "from util import load_data\n",
    "from dataset import TimeVAEdataset\n",
    "from TimeVAE import TimeVAE\n",
    "import argparse\n",
    "import torch.nn as nn\n",
    "\n"
   ]
  },
  {
   "cell_type": "code",
   "execution_count": 2,
   "metadata": {},
   "outputs": [
    {
     "name": "stdout",
     "output_type": "stream",
     "text": [
      "Number of samples: 180\n",
      "Shape of _samples: (180, 120, 24)\n",
      "Parameter Sequence Length: 120\n",
      "Parameter Number of Features: 24\n"
     ]
    }
   ],
   "source": [
    "params={'data_source': '29var',\n",
    "         'batch_size': 20, 'device': 'cpu',\n",
    "           'epochs': 100, 'latent_dim': 64, 'lr': 0.001,\n",
    "             'break_data': False, 'break_size': 60,\n",
    "               'leave_out_problematic_features': True, \n",
    "               'cutoff_data': True, 'feat_dim': 24,\n",
    "                 'seq_len': 120, 'num_samples': 180, \n",
    "                 'trend_poly': 2, 'custom_seas': [(4, 8)], \n",
    "                 'reconstruction_wt': 3.0, 'hidden_layer_sizes': [50, 100, 200]}\n",
    "if params[\"data_source\"] == \"29var\":\n",
    "    data = load_data(\n",
    "        \"../Data/PreProcessed/29var/df29.xlsx\",\n",
    "        break_to_smaller=params[\"break_data\"],\n",
    "        break_size=params[\"break_size\"],\n",
    "        leave_out_problematic_features=params[\"leave_out_problematic_features\"],\n",
    "        cutoff_data=params[\"cutoff_data\"],\n",
    "    )\n",
    "elif params[\"data_source\"] == \"12var\":\n",
    "    data = load_data(\n",
    "        \"../Data/PreProcessed/12var/df12.xlsx\",\n",
    "        break_to_smaller=params[\"break_data\"],\n",
    "        break_size=params[\"break_size\"],\n",
    "        leave_out_problematic_features=params[\"leave_out_problematic_features\"],\n",
    "        cutoff_data=params[\"cutoff_data\"],\n",
    "    )\n",
    "else:\n",
    "    raise ValueError(\"Unsupported data source. Use 12var or 29var\")\n",
    "###\n",
    "sequence_length = data.shape[1]\n",
    "print(\"Parameter Sequence Length:\", sequence_length)\n",
    "number_of_features = data.shape[2]\n",
    "print(\"Parameter Number of Features:\", number_of_features)\n",
    "\n",
    "dataset = TimeVAEdataset(data)\n",
    "params[\"feat_dim\"] = number_of_features\n",
    "params[\"seq_len\"] = sequence_length\n",
    "params[\"num_samples\"] = data.shape[0]\n",
    "train_loader = torch.utils.data.DataLoader(\n",
    "    dataset, batch_size=params[\"batch_size\"], shuffle=True\n",
    ")\n",
    "test_loader = torch.utils.data.DataLoader(\n",
    "    dataset, batch_size=params[\"batch_size\"], shuffle=True\n",
    ")\n",
    "params[\"trend_poly\"] = 2\n",
    "params[\"custom_seas\"] = [(4, 8)]\n",
    "params[\"reconstruction_wt\"] = 3.0\n",
    "params[\"hidden_layer_sizes\"] = [50, 100, 200]"
   ]
  },
  {
   "cell_type": "code",
   "execution_count": 3,
   "metadata": {},
   "outputs": [],
   "source": [
    "model=TimeVAE(params)"
   ]
  },
  {
   "cell_type": "code",
   "execution_count": 4,
   "metadata": {},
   "outputs": [],
   "source": [
    "# for epoch in range(100):\n",
    "#     for batch, data in enumerate(train_loader):\n",
    "#         break"
   ]
  },
  {
   "cell_type": "code",
   "execution_count": 5,
   "metadata": {},
   "outputs": [
    {
     "name": "stdout",
     "output_type": "stream",
     "text": [
      "tensor([[[2., 1., 4.,  ..., 4., 4., 1.],\n",
      "         [2., 1., 4.,  ..., 4., 6., 3.],\n",
      "         [2., 1., 5.,  ..., 4., 5., 3.],\n",
      "         ...,\n",
      "         [2., 3., 4.,  ..., 3., 4., 2.],\n",
      "         [3., 4., 4.,  ..., 4., 4., 1.],\n",
      "         [3., 2., 4.,  ..., 3., 4., 2.]],\n",
      "\n",
      "        [[2., 1., 1.,  ..., 1., 4., 1.],\n",
      "         [1., 1., 3.,  ..., 2., 5., 1.],\n",
      "         [1., 1., 2.,  ..., 2., 5., 1.],\n",
      "         ...,\n",
      "         [1., 1., 3.,  ..., 1., 4., 1.],\n",
      "         [1., 1., 3.,  ..., 1., 4., 1.],\n",
      "         [1., 1., 3.,  ..., 1., 5., 1.]],\n",
      "\n",
      "        [[1., 2., 2.,  ..., 4., 4., 4.],\n",
      "         [5., 5., 3.,  ..., 4., 3., 4.],\n",
      "         [2., 3., 3.,  ..., 1., 2., 2.],\n",
      "         ...,\n",
      "         [1., 3., 2.,  ..., 1., 1., 1.],\n",
      "         [2., 3., 2.,  ..., 1., 1., 2.],\n",
      "         [1., 2., 4.,  ..., 1., 1., 1.]],\n",
      "\n",
      "        ...,\n",
      "\n",
      "        [[1., 1., 5.,  ..., 3., 5., 4.],\n",
      "         [1., 1., 5.,  ..., 1., 6., 4.],\n",
      "         [1., 1., 5.,  ..., 2., 6., 4.],\n",
      "         ...,\n",
      "         [1., 1., 5.,  ..., 1., 5., 5.],\n",
      "         [1., 1., 5.,  ..., 1., 5., 5.],\n",
      "         [1., 1., 5.,  ..., 1., 5., 4.]],\n",
      "\n",
      "        [[2., 1., 4.,  ..., 3., 6., 2.],\n",
      "         [2., 2., 4.,  ..., 2., 6., 2.],\n",
      "         [2., 3., 5.,  ..., 3., 7., 1.],\n",
      "         ...,\n",
      "         [5., 2., 4.,  ..., 4., 4., 2.],\n",
      "         [4., 3., 4.,  ..., 4., 6., 1.],\n",
      "         [3., 3., 4.,  ..., 3., 6., 2.]],\n",
      "\n",
      "        [[1., 1., 4.,  ..., 1., 6., 1.],\n",
      "         [1., 1., 6.,  ..., 2., 4., 1.],\n",
      "         [1., 1., 7.,  ..., 3., 7., 1.],\n",
      "         ...,\n",
      "         [1., 1., 6.,  ..., 1., 5., 1.],\n",
      "         [1., 1., 5.,  ..., 1., 6., 1.],\n",
      "         [1., 1., 5.,  ..., 1., 5., 1.]]])\n"
     ]
    }
   ],
   "source": [
    "for batch in train_loader:\n",
    "    print(batch)\n",
    "    break"
   ]
  },
  {
   "cell_type": "code",
   "execution_count": 6,
   "metadata": {},
   "outputs": [
    {
     "data": {
      "text/plain": [
       "torch.Size([20, 120, 24])"
      ]
     },
     "execution_count": 6,
     "metadata": {},
     "output_type": "execute_result"
    }
   ],
   "source": [
    "batch.shape"
   ]
  },
  {
   "cell_type": "code",
   "execution_count": 7,
   "metadata": {},
   "outputs": [],
   "source": [
    "z1,z2,z3=model.encoder(batch)"
   ]
  },
  {
   "cell_type": "code",
   "execution_count": 8,
   "metadata": {},
   "outputs": [
    {
     "name": "stdout",
     "output_type": "stream",
     "text": [
      "torch.Size([20, 64]) torch.Size([20, 64]) torch.Size([20, 64])\n"
     ]
    }
   ],
   "source": [
    "print(z1.shape,z2.shape,z3.shape)"
   ]
  },
  {
   "cell_type": "code",
   "execution_count": 9,
   "metadata": {},
   "outputs": [],
   "source": [
    "z=model._reparameterize(z1,z2)"
   ]
  },
  {
   "cell_type": "code",
   "execution_count": 10,
   "metadata": {},
   "outputs": [
    {
     "data": {
      "text/plain": [
       "torch.Size([20, 64])"
      ]
     },
     "execution_count": 10,
     "metadata": {},
     "output_type": "execute_result"
    }
   ],
   "source": [
    "z.shape"
   ]
  },
  {
   "cell_type": "code",
   "execution_count": 11,
   "metadata": {},
   "outputs": [
    {
     "name": "stdout",
     "output_type": "stream",
     "text": [
      "Shape of outputs after level layer: torch.Size([20, 120, 24])\n",
      "Shape of z before trend layer: torch.Size([20, 64])\n",
      "Shape of trend_params after first dense layer: torch.Size([20, 48])\n",
      "Shape of trend_params after second dense layer: torch.Size([20, 48])\n",
      "Shape of trend_params after reshaping: torch.Size([20, 24, 2])\n",
      "Shape of outputs after trend layer: torch.Size([20, 120, 24])\n"
     ]
    },
    {
     "data": {
      "text/plain": [
       "tensor([[[-0.9633, -0.2254,  0.5809,  ..., -0.4928,  1.1533, -0.0472],\n",
       "         [-0.6735,  0.9425, -0.3008,  ..., -0.1102, -0.6196,  0.4397],\n",
       "         [-0.1972, -0.0280, -0.2443,  ...,  0.0080, -0.0211,  0.2736],\n",
       "         ...,\n",
       "         [ 0.9678,  0.4251, -0.8884,  ..., -0.8854,  0.1575,  1.4445],\n",
       "         [ 0.6505,  1.0987,  0.1941,  ..., -0.0260, -0.1207, -0.1980],\n",
       "         [ 0.2927,  0.0875, -0.6173,  ...,  0.4408, -0.5236,  0.6989]],\n",
       "\n",
       "        [[ 0.5854,  0.3555,  0.2394,  ..., -0.5182,  0.1198,  0.8744],\n",
       "         [-0.5442, -0.1953,  1.6027,  ..., -0.1501, -0.4444,  0.0830],\n",
       "         [ 0.3625, -0.6521, -0.2680,  ..., -0.4057, -0.0448,  0.5891],\n",
       "         ...,\n",
       "         [ 0.5343, -0.3522,  0.5092,  ...,  1.0708, -0.8794,  0.9567],\n",
       "         [ 0.2675,  0.7223, -0.0039,  ...,  0.5993, -0.6961, -0.6581],\n",
       "         [ 1.3929,  0.5381,  0.8673,  ..., -1.0394, -0.1701,  0.4872]],\n",
       "\n",
       "        [[-0.0112,  0.7068,  0.6468,  ..., -1.1042,  0.0054,  0.0286],\n",
       "         [-0.2500,  0.7385, -0.8025,  ..., -0.1983, -0.6672,  0.4854],\n",
       "         [ 0.2269,  1.2494,  0.8213,  ..., -0.4714, -0.7227,  1.5057],\n",
       "         ...,\n",
       "         [ 1.0852,  0.3609,  0.6934,  ..., -0.9976,  0.3459,  1.9426],\n",
       "         [-0.1669,  0.2429,  0.5449,  ..., -0.5417,  0.2198,  0.7561],\n",
       "         [ 0.5635, -0.1349,  0.1665,  ..., -0.4299, -0.1340,  1.4659]],\n",
       "\n",
       "        ...,\n",
       "\n",
       "        [[ 0.3866,  0.3946,  0.5263,  ..., -0.3358, -0.1530, -1.3879],\n",
       "         [ 0.3667,  0.5609,  0.2882,  ..., -1.0704, -0.7740, -0.0696],\n",
       "         [ 0.0623, -0.9541, -0.6516,  ...,  0.1731,  0.3380,  0.9927],\n",
       "         ...,\n",
       "         [ 1.5057, -0.2533,  1.0462,  ...,  0.0462,  0.8179,  0.7221],\n",
       "         [ 1.1058,  1.1054, -0.2578,  ..., -1.1714, -0.5542, -0.5467],\n",
       "         [-0.0412,  0.7387,  0.2092,  ..., -1.1703, -0.0575,  1.0719]],\n",
       "\n",
       "        [[-0.0088,  0.1249,  0.7917,  ..., -0.1306, -0.1367, -0.0640],\n",
       "         [-0.8603, -0.5945, -0.8606,  ...,  0.5722,  0.3331,  1.3918],\n",
       "         [-0.7505,  0.4656,  0.7367,  ..., -0.5381,  0.4990,  0.6377],\n",
       "         ...,\n",
       "         [-0.2621, -0.7456,  1.0696,  ..., -0.7928,  0.1665,  0.7273],\n",
       "         [-0.0818,  0.6172, -0.9813,  ..., -0.7883,  0.6558,  0.5852],\n",
       "         [-0.3231, -0.8906,  0.5838,  ...,  1.1078, -0.4260, -0.2621]],\n",
       "\n",
       "        [[-0.4184,  0.3325,  0.7292,  ...,  0.1859, -0.0937,  1.3361],\n",
       "         [-0.8534, -0.2338, -0.3181,  ...,  0.1982, -0.3609,  1.6967],\n",
       "         [-0.7391, -0.0449,  0.0109,  ...,  0.0233, -0.7591,  0.5837],\n",
       "         ...,\n",
       "         [ 0.7303, -0.6119, -0.7020,  ...,  0.7106, -0.8465,  1.1007],\n",
       "         [ 0.0706, -0.5539,  0.7559,  ...,  1.4286, -0.1900,  0.9893],\n",
       "         [ 0.4918,  0.3714, -0.3212,  ..., -0.5704, -0.6716,  1.5594]]],\n",
       "       grad_fn=<AddBackward0>)"
      ]
     },
     "execution_count": 11,
     "metadata": {},
     "output_type": "execute_result"
    }
   ],
   "source": [
    "model.decoder(z)"
   ]
  },
  {
   "cell_type": "code",
   "execution_count": 12,
   "metadata": {},
   "outputs": [
    {
     "data": {
      "text/plain": [
       "24"
      ]
     },
     "execution_count": 12,
     "metadata": {},
     "output_type": "execute_result"
    }
   ],
   "source": [
    "params['feat_dim']"
   ]
  },
  {
   "cell_type": "code",
   "execution_count": 13,
   "metadata": {},
   "outputs": [],
   "source": [
    "t1=nn.Linear(params['latent_dim'], params['latent_dim'] * params['trend_poly'])"
   ]
  },
  {
   "cell_type": "code",
   "execution_count": 14,
   "metadata": {},
   "outputs": [
    {
     "data": {
      "text/plain": [
       "torch.Size([20, 128])"
      ]
     },
     "execution_count": 14,
     "metadata": {},
     "output_type": "execute_result"
    }
   ],
   "source": [
    "t1(z).shape"
   ]
  },
  {
   "cell_type": "code",
   "execution_count": 15,
   "metadata": {},
   "outputs": [],
   "source": [
    "t2=nn.Linear(params['latent_dim'] * params['trend_poly'], params['latent_dim'] * params['trend_poly'])"
   ]
  },
  {
   "cell_type": "code",
   "execution_count": 16,
   "metadata": {},
   "outputs": [
    {
     "ename": "RuntimeError",
     "evalue": "shape '[-1, 24, 2]' is invalid for input of size 2560",
     "output_type": "error",
     "traceback": [
      "\u001b[0;31m---------------------------------------------------------------------------\u001b[0m",
      "\u001b[0;31mRuntimeError\u001b[0m                              Traceback (most recent call last)",
      "Cell \u001b[0;32mIn[16], line 2\u001b[0m\n\u001b[1;32m      1\u001b[0m q\u001b[38;5;241m=\u001b[39mt2(t1(z))\n\u001b[0;32m----> 2\u001b[0m q2\u001b[38;5;241m=\u001b[39m\u001b[43mq\u001b[49m\u001b[38;5;241;43m.\u001b[39;49m\u001b[43mview\u001b[49m\u001b[43m(\u001b[49m\u001b[38;5;241;43m-\u001b[39;49m\u001b[38;5;241;43m1\u001b[39;49m\u001b[43m,\u001b[49m\u001b[43m \u001b[49m\u001b[43mparams\u001b[49m\u001b[43m[\u001b[49m\u001b[38;5;124;43m'\u001b[39;49m\u001b[38;5;124;43mfeat_dim\u001b[39;49m\u001b[38;5;124;43m'\u001b[39;49m\u001b[43m]\u001b[49m\u001b[43m,\u001b[49m\u001b[43m \u001b[49m\u001b[43mparams\u001b[49m\u001b[43m[\u001b[49m\u001b[38;5;124;43m'\u001b[39;49m\u001b[38;5;124;43mtrend_poly\u001b[39;49m\u001b[38;5;124;43m'\u001b[39;49m\u001b[43m]\u001b[49m\u001b[43m)\u001b[49m\n",
      "\u001b[0;31mRuntimeError\u001b[0m: shape '[-1, 24, 2]' is invalid for input of size 2560"
     ]
    }
   ],
   "source": [
    "q=t2(t1(z))\n",
    "q2=q.view(-1, params['feat_dim'], params['trend_poly'])"
   ]
  },
  {
   "cell_type": "code",
   "execution_count": null,
   "metadata": {},
   "outputs": [],
   "source": [
    "lin_space = torch.linspace(0, 1, params['seq_len'], device=z.device)\n",
    "poly_space = torch.stack(\n",
    "    [lin_space ** (p + 1) for p in range(params['trend_poly'])], dim=0\n",
    ")"
   ]
  },
  {
   "cell_type": "code",
   "execution_count": null,
   "metadata": {},
   "outputs": [],
   "source": [
    "trend_vals = torch.matmul(q2, poly_space)\n",
    "trend_vals = trend_vals.permute(0, 2, 1)"
   ]
  },
  {
   "cell_type": "code",
   "execution_count": null,
   "metadata": {},
   "outputs": [],
   "source": [
    "trend_vals"
   ]
  },
  {
   "cell_type": "code",
   "execution_count": null,
   "metadata": {},
   "outputs": [],
   "source": []
  }
 ],
 "metadata": {
  "kernelspec": {
   "display_name": "mikasa",
   "language": "python",
   "name": "python3"
  },
  "language_info": {
   "codemirror_mode": {
    "name": "ipython",
    "version": 3
   },
   "file_extension": ".py",
   "mimetype": "text/x-python",
   "name": "python",
   "nbconvert_exporter": "python",
   "pygments_lexer": "ipython3",
   "version": "3.11.5"
  }
 },
 "nbformat": 4,
 "nbformat_minor": 2
}

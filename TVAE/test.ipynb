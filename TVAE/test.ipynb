{
 "cells": [
  {
   "cell_type": "code",
   "execution_count": 1,
   "metadata": {},
   "outputs": [],
   "source": [
    "import os\n",
    "import numpy as np\n",
    "import torch\n",
    "from torch.utils.data import DataLoader, TensorDataset\n",
    "import torch.optim as optim\n",
    "import wandb\n",
    "from util import load_data\n",
    "from dataset import TimeVAEdataset\n",
    "from TimeVAE import TimeVAE\n",
    "import argparse\n",
    "import torch.nn as nn\n",
    "\n"
   ]
  },
  {
   "cell_type": "code",
   "execution_count": 2,
   "metadata": {},
   "outputs": [
    {
     "name": "stdout",
     "output_type": "stream",
     "text": [
      "Number of samples: 180\n",
      "Shape of _samples: (180, 120, 24)\n",
      "Parameter Sequence Length: 120\n",
      "Parameter Number of Features: 24\n"
     ]
    }
   ],
   "source": [
    "params={'data_source': '29var',\n",
    "         'batch_size': 20, 'device': 'cpu',\n",
    "           'epochs': 100, 'latent_dim': 64, 'lr': 0.001,\n",
    "             'break_data': False, 'break_size': 60,\n",
    "               'leave_out_problematic_features': True, \n",
    "               'cutoff_data': True, 'feat_dim': 24,\n",
    "                 'seq_len': 120, 'num_samples': 180, \n",
    "                 'trend_poly': 2, 'custom_seas': [(4, 8)], \n",
    "                 'reconstruction_wt': 3.0, 'hidden_layer_sizes': [50, 100, 200]}\n",
    "if params[\"data_source\"] == \"29var\":\n",
    "    data = load_data(\n",
    "        \"../Data/PreProcessed/29var/df29.xlsx\",\n",
    "        break_to_smaller=params[\"break_data\"],\n",
    "        break_size=params[\"break_size\"],\n",
    "        leave_out_problematic_features=params[\"leave_out_problematic_features\"],\n",
    "        cutoff_data=params[\"cutoff_data\"],\n",
    "    )\n",
    "elif params[\"data_source\"] == \"12var\":\n",
    "    data = load_data(\n",
    "        \"../Data/PreProcessed/12var/df12.xlsx\",\n",
    "        break_to_smaller=params[\"break_data\"],\n",
    "        break_size=params[\"break_size\"],\n",
    "        leave_out_problematic_features=params[\"leave_out_problematic_features\"],\n",
    "        cutoff_data=params[\"cutoff_data\"],\n",
    "    )\n",
    "else:\n",
    "    raise ValueError(\"Unsupported data source. Use 12var or 29var\")\n",
    "###\n",
    "sequence_length = data.shape[1]\n",
    "print(\"Parameter Sequence Length:\", sequence_length)\n",
    "number_of_features = data.shape[2]\n",
    "print(\"Parameter Number of Features:\", number_of_features)\n",
    "\n",
    "dataset = TimeVAEdataset(data)\n",
    "params[\"feat_dim\"] = number_of_features\n",
    "params[\"seq_len\"] = sequence_length\n",
    "params[\"num_samples\"] = data.shape[0]\n",
    "train_loader = torch.utils.data.DataLoader(\n",
    "    dataset, batch_size=params[\"batch_size\"], shuffle=True\n",
    ")\n",
    "test_loader = torch.utils.data.DataLoader(\n",
    "    dataset, batch_size=params[\"batch_size\"], shuffle=True\n",
    ")\n",
    "params[\"trend_poly\"] = 2\n",
    "params[\"custom_seas\"] = [(4, 8)]\n",
    "params[\"reconstruction_wt\"] = 3.0\n",
    "params[\"hidden_layer_sizes\"] = [50, 100, 200]"
   ]
  },
  {
   "cell_type": "code",
   "execution_count": 3,
   "metadata": {},
   "outputs": [],
   "source": [
    "model=TimeVAE(params)"
   ]
  },
  {
   "cell_type": "code",
   "execution_count": 4,
   "metadata": {},
   "outputs": [],
   "source": [
    "# for epoch in range(100):\n",
    "#     for batch, data in enumerate(train_loader):\n",
    "#         break"
   ]
  },
  {
   "cell_type": "code",
   "execution_count": 5,
   "metadata": {},
   "outputs": [
    {
     "name": "stdout",
     "output_type": "stream",
     "text": [
      "tensor([[[1., 1., 5.,  ..., 1., 4., 1.],\n",
      "         [1., 1., 6.,  ..., 1., 6., 2.],\n",
      "         [1., 1., 5.,  ..., 1., 5., 2.],\n",
      "         ...,\n",
      "         [1., 1., 6.,  ..., 1., 6., 1.],\n",
      "         [1., 1., 6.,  ..., 1., 6., 1.],\n",
      "         [1., 1., 6.,  ..., 1., 6., 1.]],\n",
      "\n",
      "        [[1., 1., 7.,  ..., 2., 5., 5.],\n",
      "         [1., 1., 6.,  ..., 1., 7., 1.],\n",
      "         [1., 1., 7.,  ..., 1., 7., 3.],\n",
      "         ...,\n",
      "         [1., 1., 6.,  ..., 2., 5., 3.],\n",
      "         [1., 1., 5.,  ..., 1., 5., 4.],\n",
      "         [1., 1., 5.,  ..., 1., 4., 3.]],\n",
      "\n",
      "        [[2., 1., 4.,  ..., 4., 4., 1.],\n",
      "         [2., 1., 4.,  ..., 4., 6., 3.],\n",
      "         [2., 1., 5.,  ..., 4., 5., 3.],\n",
      "         ...,\n",
      "         [2., 3., 4.,  ..., 3., 4., 2.],\n",
      "         [3., 4., 4.,  ..., 4., 4., 1.],\n",
      "         [3., 2., 4.,  ..., 3., 4., 2.]],\n",
      "\n",
      "        ...,\n",
      "\n",
      "        [[3., 3., 4.,  ..., 4., 5., 1.],\n",
      "         [3., 3., 4.,  ..., 3., 5., 3.],\n",
      "         [2., 2., 5.,  ..., 4., 6., 4.],\n",
      "         ...,\n",
      "         [3., 2., 3.,  ..., 3., 4., 1.],\n",
      "         [2., 2., 4.,  ..., 2., 4., 1.],\n",
      "         [2., 3., 4.,  ..., 2., 4., 1.]],\n",
      "\n",
      "        [[2., 1., 5.,  ..., 4., 4., 6.],\n",
      "         [1., 1., 4.,  ..., 3., 4., 4.],\n",
      "         [1., 1., 5.,  ..., 3., 4., 3.],\n",
      "         ...,\n",
      "         [3., 1., 4.,  ..., 5., 4., 1.],\n",
      "         [1., 1., 3.,  ..., 4., 5., 1.],\n",
      "         [2., 1., 4.,  ..., 5., 5., 1.]],\n",
      "\n",
      "        [[1., 1., 5.,  ..., 4., 6., 1.],\n",
      "         [1., 1., 5.,  ..., 5., 6., 1.],\n",
      "         [5., 1., 4.,  ..., 5., 6., 1.],\n",
      "         ...,\n",
      "         [1., 1., 4.,  ..., 4., 5., 1.],\n",
      "         [1., 1., 3.,  ..., 5., 4., 1.],\n",
      "         [1., 1., 4.,  ..., 5., 4., 1.]]])\n"
     ]
    }
   ],
   "source": [
    "for batch in train_loader:\n",
    "    print(batch)\n",
    "    break"
   ]
  },
  {
   "cell_type": "code",
   "execution_count": 6,
   "metadata": {},
   "outputs": [
    {
     "data": {
      "text/plain": [
       "torch.Size([20, 120, 24])"
      ]
     },
     "execution_count": 6,
     "metadata": {},
     "output_type": "execute_result"
    }
   ],
   "source": [
    "batch.shape"
   ]
  },
  {
   "cell_type": "code",
   "execution_count": 7,
   "metadata": {},
   "outputs": [],
   "source": [
    "z1,z2,z3=model.encoder(batch)"
   ]
  },
  {
   "cell_type": "code",
   "execution_count": 8,
   "metadata": {},
   "outputs": [
    {
     "name": "stdout",
     "output_type": "stream",
     "text": [
      "torch.Size([20, 64]) torch.Size([20, 64]) torch.Size([20, 64])\n"
     ]
    }
   ],
   "source": [
    "print(z1.shape,z2.shape,z3.shape)"
   ]
  },
  {
   "cell_type": "code",
   "execution_count": 9,
   "metadata": {},
   "outputs": [],
   "source": [
    "z=model._reparameterize(z1,z2)"
   ]
  },
  {
   "cell_type": "code",
   "execution_count": 10,
   "metadata": {},
   "outputs": [
    {
     "data": {
      "text/plain": [
       "torch.Size([20, 64])"
      ]
     },
     "execution_count": 10,
     "metadata": {},
     "output_type": "execute_result"
    }
   ],
   "source": [
    "z.shape"
   ]
  },
  {
   "cell_type": "code",
   "execution_count": 11,
   "metadata": {},
   "outputs": [
    {
     "name": "stdout",
     "output_type": "stream",
     "text": [
      "Shape of outputs after level layer: torch.Size([20, 120, 24])\n",
      "Shape of z before trend layer: torch.Size([20, 64])\n",
      "Shape of trend_params after first dense layer: torch.Size([20, 48])\n",
      "Shape of trend_params after second dense layer: torch.Size([20, 48])\n",
      "Shape of trend_params after reshaping: torch.Size([20, 24, 2])\n",
      "Shape of outputs after trend layer: torch.Size([20, 120, 24])\n"
     ]
    },
    {
     "ename": "RuntimeError",
     "evalue": "'weight' must be 2-D",
     "output_type": "error",
     "traceback": [
      "\u001b[0;31m---------------------------------------------------------------------------\u001b[0m",
      "\u001b[0;31mRuntimeError\u001b[0m                              Traceback (most recent call last)",
      "Cell \u001b[0;32mIn[11], line 1\u001b[0m\n\u001b[0;32m----> 1\u001b[0m \u001b[43mmodel\u001b[49m\u001b[38;5;241;43m.\u001b[39;49m\u001b[43mdecoder\u001b[49m\u001b[43m(\u001b[49m\u001b[43mz\u001b[49m\u001b[43m)\u001b[49m\n",
      "File \u001b[0;32m~/miniconda3/envs/mikasa/lib/python3.11/site-packages/torch/nn/modules/module.py:1511\u001b[0m, in \u001b[0;36mModule._wrapped_call_impl\u001b[0;34m(self, *args, **kwargs)\u001b[0m\n\u001b[1;32m   1509\u001b[0m     \u001b[38;5;28;01mreturn\u001b[39;00m \u001b[38;5;28mself\u001b[39m\u001b[38;5;241m.\u001b[39m_compiled_call_impl(\u001b[38;5;241m*\u001b[39margs, \u001b[38;5;241m*\u001b[39m\u001b[38;5;241m*\u001b[39mkwargs)  \u001b[38;5;66;03m# type: ignore[misc]\u001b[39;00m\n\u001b[1;32m   1510\u001b[0m \u001b[38;5;28;01melse\u001b[39;00m:\n\u001b[0;32m-> 1511\u001b[0m     \u001b[38;5;28;01mreturn\u001b[39;00m \u001b[38;5;28;43mself\u001b[39;49m\u001b[38;5;241;43m.\u001b[39;49m\u001b[43m_call_impl\u001b[49m\u001b[43m(\u001b[49m\u001b[38;5;241;43m*\u001b[39;49m\u001b[43margs\u001b[49m\u001b[43m,\u001b[49m\u001b[43m \u001b[49m\u001b[38;5;241;43m*\u001b[39;49m\u001b[38;5;241;43m*\u001b[39;49m\u001b[43mkwargs\u001b[49m\u001b[43m)\u001b[49m\n",
      "File \u001b[0;32m~/miniconda3/envs/mikasa/lib/python3.11/site-packages/torch/nn/modules/module.py:1520\u001b[0m, in \u001b[0;36mModule._call_impl\u001b[0;34m(self, *args, **kwargs)\u001b[0m\n\u001b[1;32m   1515\u001b[0m \u001b[38;5;66;03m# If we don't have any hooks, we want to skip the rest of the logic in\u001b[39;00m\n\u001b[1;32m   1516\u001b[0m \u001b[38;5;66;03m# this function, and just call forward.\u001b[39;00m\n\u001b[1;32m   1517\u001b[0m \u001b[38;5;28;01mif\u001b[39;00m \u001b[38;5;129;01mnot\u001b[39;00m (\u001b[38;5;28mself\u001b[39m\u001b[38;5;241m.\u001b[39m_backward_hooks \u001b[38;5;129;01mor\u001b[39;00m \u001b[38;5;28mself\u001b[39m\u001b[38;5;241m.\u001b[39m_backward_pre_hooks \u001b[38;5;129;01mor\u001b[39;00m \u001b[38;5;28mself\u001b[39m\u001b[38;5;241m.\u001b[39m_forward_hooks \u001b[38;5;129;01mor\u001b[39;00m \u001b[38;5;28mself\u001b[39m\u001b[38;5;241m.\u001b[39m_forward_pre_hooks\n\u001b[1;32m   1518\u001b[0m         \u001b[38;5;129;01mor\u001b[39;00m _global_backward_pre_hooks \u001b[38;5;129;01mor\u001b[39;00m _global_backward_hooks\n\u001b[1;32m   1519\u001b[0m         \u001b[38;5;129;01mor\u001b[39;00m _global_forward_hooks \u001b[38;5;129;01mor\u001b[39;00m _global_forward_pre_hooks):\n\u001b[0;32m-> 1520\u001b[0m     \u001b[38;5;28;01mreturn\u001b[39;00m \u001b[43mforward_call\u001b[49m\u001b[43m(\u001b[49m\u001b[38;5;241;43m*\u001b[39;49m\u001b[43margs\u001b[49m\u001b[43m,\u001b[49m\u001b[43m \u001b[49m\u001b[38;5;241;43m*\u001b[39;49m\u001b[38;5;241;43m*\u001b[39;49m\u001b[43mkwargs\u001b[49m\u001b[43m)\u001b[49m\n\u001b[1;32m   1522\u001b[0m \u001b[38;5;28;01mtry\u001b[39;00m:\n\u001b[1;32m   1523\u001b[0m     result \u001b[38;5;241m=\u001b[39m \u001b[38;5;28;01mNone\u001b[39;00m\n",
      "File \u001b[0;32m~/Desktop/TS_Clustering/MTS_Co_Clustering/TVAE/TimeVAE.py:244\u001b[0m, in \u001b[0;36mDecoder.forward\u001b[0;34m(self, z)\u001b[0m\n\u001b[1;32m    242\u001b[0m \u001b[38;5;28mprint\u001b[39m(\u001b[38;5;124m\"\u001b[39m\u001b[38;5;124mShape of outputs after trend layer:\u001b[39m\u001b[38;5;124m\"\u001b[39m, outputs\u001b[38;5;241m.\u001b[39mshape)\n\u001b[1;32m    243\u001b[0m \u001b[38;5;28;01mif\u001b[39;00m \u001b[38;5;28mlen\u001b[39m(\u001b[38;5;28mself\u001b[39m\u001b[38;5;241m.\u001b[39mcustom_seas) \u001b[38;5;241m>\u001b[39m \u001b[38;5;241m0\u001b[39m:\n\u001b[0;32m--> 244\u001b[0m     seasonal_vals \u001b[38;5;241m=\u001b[39m \u001b[38;5;28;43mself\u001b[39;49m\u001b[38;5;241;43m.\u001b[39;49m\u001b[43mseasonal_layer\u001b[49m\u001b[43m(\u001b[49m\u001b[43mz\u001b[49m\u001b[43m)\u001b[49m\n\u001b[1;32m    245\u001b[0m     outputs \u001b[38;5;241m=\u001b[39m seasonal_vals \u001b[38;5;28;01mif\u001b[39;00m outputs \u001b[38;5;129;01mis\u001b[39;00m \u001b[38;5;28;01mNone\u001b[39;00m \u001b[38;5;28;01melse\u001b[39;00m outputs \u001b[38;5;241m+\u001b[39m seasonal_vals\n\u001b[1;32m    247\u001b[0m \u001b[38;5;28;01mif\u001b[39;00m \u001b[38;5;28mself\u001b[39m\u001b[38;5;241m.\u001b[39muse_residual_conn:\n",
      "File \u001b[0;32m~/miniconda3/envs/mikasa/lib/python3.11/site-packages/torch/nn/modules/module.py:1511\u001b[0m, in \u001b[0;36mModule._wrapped_call_impl\u001b[0;34m(self, *args, **kwargs)\u001b[0m\n\u001b[1;32m   1509\u001b[0m     \u001b[38;5;28;01mreturn\u001b[39;00m \u001b[38;5;28mself\u001b[39m\u001b[38;5;241m.\u001b[39m_compiled_call_impl(\u001b[38;5;241m*\u001b[39margs, \u001b[38;5;241m*\u001b[39m\u001b[38;5;241m*\u001b[39mkwargs)  \u001b[38;5;66;03m# type: ignore[misc]\u001b[39;00m\n\u001b[1;32m   1510\u001b[0m \u001b[38;5;28;01melse\u001b[39;00m:\n\u001b[0;32m-> 1511\u001b[0m     \u001b[38;5;28;01mreturn\u001b[39;00m \u001b[38;5;28;43mself\u001b[39;49m\u001b[38;5;241;43m.\u001b[39;49m\u001b[43m_call_impl\u001b[49m\u001b[43m(\u001b[49m\u001b[38;5;241;43m*\u001b[39;49m\u001b[43margs\u001b[49m\u001b[43m,\u001b[49m\u001b[43m \u001b[49m\u001b[38;5;241;43m*\u001b[39;49m\u001b[38;5;241;43m*\u001b[39;49m\u001b[43mkwargs\u001b[49m\u001b[43m)\u001b[49m\n",
      "File \u001b[0;32m~/miniconda3/envs/mikasa/lib/python3.11/site-packages/torch/nn/modules/module.py:1520\u001b[0m, in \u001b[0;36mModule._call_impl\u001b[0;34m(self, *args, **kwargs)\u001b[0m\n\u001b[1;32m   1515\u001b[0m \u001b[38;5;66;03m# If we don't have any hooks, we want to skip the rest of the logic in\u001b[39;00m\n\u001b[1;32m   1516\u001b[0m \u001b[38;5;66;03m# this function, and just call forward.\u001b[39;00m\n\u001b[1;32m   1517\u001b[0m \u001b[38;5;28;01mif\u001b[39;00m \u001b[38;5;129;01mnot\u001b[39;00m (\u001b[38;5;28mself\u001b[39m\u001b[38;5;241m.\u001b[39m_backward_hooks \u001b[38;5;129;01mor\u001b[39;00m \u001b[38;5;28mself\u001b[39m\u001b[38;5;241m.\u001b[39m_backward_pre_hooks \u001b[38;5;129;01mor\u001b[39;00m \u001b[38;5;28mself\u001b[39m\u001b[38;5;241m.\u001b[39m_forward_hooks \u001b[38;5;129;01mor\u001b[39;00m \u001b[38;5;28mself\u001b[39m\u001b[38;5;241m.\u001b[39m_forward_pre_hooks\n\u001b[1;32m   1518\u001b[0m         \u001b[38;5;129;01mor\u001b[39;00m _global_backward_pre_hooks \u001b[38;5;129;01mor\u001b[39;00m _global_backward_hooks\n\u001b[1;32m   1519\u001b[0m         \u001b[38;5;129;01mor\u001b[39;00m _global_forward_hooks \u001b[38;5;129;01mor\u001b[39;00m _global_forward_pre_hooks):\n\u001b[0;32m-> 1520\u001b[0m     \u001b[38;5;28;01mreturn\u001b[39;00m \u001b[43mforward_call\u001b[49m\u001b[43m(\u001b[49m\u001b[38;5;241;43m*\u001b[39;49m\u001b[43margs\u001b[49m\u001b[43m,\u001b[49m\u001b[43m \u001b[49m\u001b[38;5;241;43m*\u001b[39;49m\u001b[38;5;241;43m*\u001b[39;49m\u001b[43mkwargs\u001b[49m\u001b[43m)\u001b[49m\n\u001b[1;32m   1522\u001b[0m \u001b[38;5;28;01mtry\u001b[39;00m:\n\u001b[1;32m   1523\u001b[0m     result \u001b[38;5;241m=\u001b[39m \u001b[38;5;28;01mNone\u001b[39;00m\n",
      "File \u001b[0;32m~/Desktop/TS_Clustering/MTS_Co_Clustering/TVAE/TimeVAE.py:133\u001b[0m, in \u001b[0;36mSeasonalLayer.forward\u001b[0;34m(self, z)\u001b[0m\n\u001b[1;32m    128\u001b[0m     season_params \u001b[38;5;241m=\u001b[39m season_params\u001b[38;5;241m.\u001b[39mview(\u001b[38;5;241m-\u001b[39m\u001b[38;5;241m1\u001b[39m, \u001b[38;5;28mself\u001b[39m\u001b[38;5;241m.\u001b[39mfeat_dim, num_seasons)\n\u001b[1;32m    130\u001b[0m     season_indexes \u001b[38;5;241m=\u001b[39m \u001b[38;5;28mself\u001b[39m\u001b[38;5;241m.\u001b[39m_get_season_indexes_over_seq(\n\u001b[1;32m    131\u001b[0m         num_seasons, len_per_season\n\u001b[1;32m    132\u001b[0m     )\n\u001b[0;32m--> 133\u001b[0m     season_vals \u001b[38;5;241m=\u001b[39m \u001b[43mF\u001b[49m\u001b[38;5;241;43m.\u001b[39;49m\u001b[43membedding\u001b[49m\u001b[43m(\u001b[49m\u001b[43mseason_indexes\u001b[49m\u001b[43m,\u001b[49m\u001b[43m \u001b[49m\u001b[43mseason_params\u001b[49m\u001b[38;5;241;43m.\u001b[39;49m\u001b[43mpermute\u001b[49m\u001b[43m(\u001b[49m\u001b[38;5;241;43m0\u001b[39;49m\u001b[43m,\u001b[49m\u001b[43m \u001b[49m\u001b[38;5;241;43m2\u001b[39;49m\u001b[43m,\u001b[49m\u001b[43m \u001b[49m\u001b[38;5;241;43m1\u001b[39;49m\u001b[43m)\u001b[49m\u001b[43m)\u001b[49m\n\u001b[1;32m    134\u001b[0m     all_seas_vals\u001b[38;5;241m.\u001b[39mappend(season_vals)\n\u001b[1;32m    136\u001b[0m all_seas_vals \u001b[38;5;241m=\u001b[39m torch\u001b[38;5;241m.\u001b[39mstack(all_seas_vals, dim\u001b[38;5;241m=\u001b[39m\u001b[38;5;241m-\u001b[39m\u001b[38;5;241m1\u001b[39m)\n",
      "File \u001b[0;32m~/miniconda3/envs/mikasa/lib/python3.11/site-packages/torch/nn/functional.py:2237\u001b[0m, in \u001b[0;36membedding\u001b[0;34m(input, weight, padding_idx, max_norm, norm_type, scale_grad_by_freq, sparse)\u001b[0m\n\u001b[1;32m   2231\u001b[0m     \u001b[38;5;66;03m# Note [embedding_renorm set_grad_enabled]\u001b[39;00m\n\u001b[1;32m   2232\u001b[0m     \u001b[38;5;66;03m# XXX: equivalent to\u001b[39;00m\n\u001b[1;32m   2233\u001b[0m     \u001b[38;5;66;03m# with torch.no_grad():\u001b[39;00m\n\u001b[1;32m   2234\u001b[0m     \u001b[38;5;66;03m#   torch.embedding_renorm_\u001b[39;00m\n\u001b[1;32m   2235\u001b[0m     \u001b[38;5;66;03m# remove once script supports set_grad_enabled\u001b[39;00m\n\u001b[1;32m   2236\u001b[0m     _no_grad_embedding_renorm_(weight, \u001b[38;5;28minput\u001b[39m, max_norm, norm_type)\n\u001b[0;32m-> 2237\u001b[0m \u001b[38;5;28;01mreturn\u001b[39;00m \u001b[43mtorch\u001b[49m\u001b[38;5;241;43m.\u001b[39;49m\u001b[43membedding\u001b[49m\u001b[43m(\u001b[49m\u001b[43mweight\u001b[49m\u001b[43m,\u001b[49m\u001b[43m \u001b[49m\u001b[38;5;28;43minput\u001b[39;49m\u001b[43m,\u001b[49m\u001b[43m \u001b[49m\u001b[43mpadding_idx\u001b[49m\u001b[43m,\u001b[49m\u001b[43m \u001b[49m\u001b[43mscale_grad_by_freq\u001b[49m\u001b[43m,\u001b[49m\u001b[43m \u001b[49m\u001b[43msparse\u001b[49m\u001b[43m)\u001b[49m\n",
      "\u001b[0;31mRuntimeError\u001b[0m: 'weight' must be 2-D"
     ]
    }
   ],
   "source": [
    "model.decoder(z)"
   ]
  },
  {
   "cell_type": "code",
   "execution_count": null,
   "metadata": {},
   "outputs": [],
   "source": [
    "params['feat_dim']"
   ]
  },
  {
   "cell_type": "code",
   "execution_count": null,
   "metadata": {},
   "outputs": [],
   "source": [
    "t1=nn.Linear(params['latent_dim'], params['latent_dim'] * params['trend_poly'])"
   ]
  },
  {
   "cell_type": "code",
   "execution_count": null,
   "metadata": {},
   "outputs": [],
   "source": [
    "t1(z).shape"
   ]
  },
  {
   "cell_type": "code",
   "execution_count": null,
   "metadata": {},
   "outputs": [],
   "source": [
    "t2=nn.Linear(params['latent_dim'] * params['trend_poly'], params['latent_dim'] * params['trend_poly'])"
   ]
  },
  {
   "cell_type": "code",
   "execution_count": null,
   "metadata": {},
   "outputs": [],
   "source": [
    "q=t2(t1(z))\n",
    "q2=q.view(-1, params['feat_dim'], params['trend_poly'])"
   ]
  },
  {
   "cell_type": "code",
   "execution_count": null,
   "metadata": {},
   "outputs": [],
   "source": [
    "lin_space = torch.linspace(0, 1, params['seq_len'], device=z.device)\n",
    "poly_space = torch.stack(\n",
    "    [lin_space ** (p + 1) for p in range(params['trend_poly'])], dim=0\n",
    ")"
   ]
  },
  {
   "cell_type": "code",
   "execution_count": null,
   "metadata": {},
   "outputs": [],
   "source": [
    "trend_vals = torch.matmul(q2, poly_space)\n",
    "trend_vals = trend_vals.permute(0, 2, 1)"
   ]
  },
  {
   "cell_type": "code",
   "execution_count": null,
   "metadata": {},
   "outputs": [],
   "source": [
    "trend_vals"
   ]
  },
  {
   "cell_type": "code",
   "execution_count": null,
   "metadata": {},
   "outputs": [],
   "source": []
  }
 ],
 "metadata": {
  "kernelspec": {
   "display_name": "mikasa",
   "language": "python",
   "name": "python3"
  },
  "language_info": {
   "codemirror_mode": {
    "name": "ipython",
    "version": 3
   },
   "file_extension": ".py",
   "mimetype": "text/x-python",
   "name": "python",
   "nbconvert_exporter": "python",
   "pygments_lexer": "ipython3",
   "version": "3.11.5"
  }
 },
 "nbformat": 4,
 "nbformat_minor": 2
}

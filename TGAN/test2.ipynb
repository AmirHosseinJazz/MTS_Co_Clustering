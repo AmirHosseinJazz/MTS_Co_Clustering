{
 "cells": [
  {
   "cell_type": "code",
   "execution_count": null,
   "metadata": {},
   "outputs": [],
   "source": [
    "import numpy as np\n",
    "import pandas as pd"
   ]
  },
  {
   "cell_type": "code",
   "execution_count": null,
   "metadata": {},
   "outputs": [],
   "source": [
    "file_path='../Data/PreProcessed/29var/df29.xlsx'\n",
    "break_to_smaller=True\n",
    "break_size=60\n",
    "leave_out_problematic_features=True"
   ]
  },
  {
   "cell_type": "code",
   "execution_count": null,
   "metadata": {},
   "outputs": [],
   "source": [
    "DF = pd.read_excel(file_path)\n",
    "DF[\"datetime\"] = DF[\"Date\"] + \" \" + DF[\"Time\"]\n",
    "DF[\"datetime\"] = pd.to_datetime(DF[\"datetime\"])\n",
    "DF.set_index(\"datetime\", inplace=True)\n",
    "if leave_out_problematic_features and \"df29\" in file_path:\n",
    "    DF = DF.drop(\n",
    "        columns=[\n",
    "            \"Crave_Food\",\n",
    "            \"Cravings\",\n",
    "            \"With how many people\",\n",
    "            \"Eating\",\n",
    "            \"Eating_healthy\",\n",
    "        ]\n",
    "    )\n",
    "DF.drop([\"Date\", \"Time\", \"Duration\"], axis=1, inplace=True)\n",
    "DF.sort_index(inplace=True)"
   ]
  },
  {
   "cell_type": "code",
   "execution_count": 1,
   "metadata": {},
   "outputs": [],
   "source": [
    "# import seaborn as sns\n",
    "# import pandas as pd\n",
    "# import matplotlib.pyplot as plt\n",
    "\n",
    "# for k in DF.columns:\n",
    "\n",
    "\n",
    "#     # Assuming you have a DataFrame called 'df' with your data\n",
    "\n",
    "#     # Iterate over each column in the DataFrame\n",
    "#     for column in DF.columns:\n",
    "#         # Create a distplot for the current column\n",
    "#         sns.displot(DF[column], kde=True)\n",
    "#         # Add a title to the plot\n",
    "#         plt.title(f\"Distribution of {column}\")\n",
    "#         # Show the plot\n",
    "#         plt.show()"
   ]
  },
  {
   "cell_type": "code",
   "execution_count": null,
   "metadata": {},
   "outputs": [],
   "source": [
    "samples=[]\n",
    "if break_to_smaller:\n",
    "    for k in DF.Name.unique().tolist():\n",
    "        temp_df=DF[DF.Name==k]\n",
    "        print(len(temp_df))\n",
    "        print(f'{len(temp_df)//break_size} samples')\n",
    "        for i in range(len(temp_df)//break_size):\n",
    "            samples.append(temp_df.iloc[i*break_size:(i+1)*break_size].drop(columns='Name').values)\n",
    "        remaining=temp_df.iloc[(i+1)*break_size:].drop(columns='Name')\n",
    "        pad_length = break_size - len(remaining)\n",
    "        padding_df = pd.DataFrame(-1, index=np.arange(pad_length), columns=remaining.columns)\n",
    "        filled_df = pd.concat([remaining, padding_df], ignore_index=True)\n",
    "        samples.append(filled_df.values)\n",
    "        # break\n",
    "else:\n",
    "    for k in DF.Name.unique().tolist():\n",
    "        if len(DF[DF[\"Name\"] == k]) >= 120:\n",
    "            temp = DF[DF[\"Name\"] == k]\n",
    "            samples.append(temp.iloc[:120, :])"
   ]
  },
  {
   "cell_type": "code",
   "execution_count": null,
   "metadata": {},
   "outputs": [],
   "source": [
    "np.array(samples).shape"
   ]
  },
  {
   "cell_type": "code",
   "execution_count": null,
   "metadata": {},
   "outputs": [],
   "source": []
  }
 ],
 "metadata": {
  "kernelspec": {
   "display_name": "mikasa",
   "language": "python",
   "name": "python3"
  },
  "language_info": {
   "codemirror_mode": {
    "name": "ipython",
    "version": 3
   },
   "file_extension": ".py",
   "mimetype": "text/x-python",
   "name": "python",
   "nbconvert_exporter": "python",
   "pygments_lexer": "ipython3",
   "version": "3.11.5"
  }
 },
 "nbformat": 4,
 "nbformat_minor": 2
}

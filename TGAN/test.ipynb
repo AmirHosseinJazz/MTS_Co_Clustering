{
  "cells": [
    {
      "cell_type": "code",
      "execution_count": 1,
      "metadata": {},
      "outputs": [],
      "source": [
        "import os\n",
        "import numpy as np\n",
        "import torch\n",
        "from torch.utils.data import DataLoader, TensorDataset\n",
        "import torch.optim as optim\n",
        "import wandb\n",
        "from util import load_data\n",
        "from TimeGAN import TimeGAN\n",
        "from train import embedding_trainer, supervisor_trainer, joint_trainer\n",
        "from dataset import TimeGANDataset\n",
        "\n",
        "params = {\n",
        "    'Z_dim': 50,\n",
        "    'hidden_dim': 64,\n",
        "    'batch_size': 10,\n",
        "    'dis_thresh': 0.15,\n",
        "    'num_layers': 5,\n",
        "    'embedder_epoch': 2,\n",
        "    'supervisor_epochs': 2,\n",
        "    'padding_value': -1,\n",
        "    'module': 'GRU',\n",
        "    'device': 'cpu',\n",
        "    'data_source': '12var'\n",
        "}"
      ]
    },
    {
      "cell_type": "code",
      "execution_count": 2,
      "metadata": {},
      "outputs": [
        {
          "name": "stdout",
          "output_type": "stream",
          "text": [
            "Number of unique Names: 187\n",
            "Number of columns: 30\n",
            "Number of rows: 31257\n",
            "Name of columns: Index(['Name', 'Sad', 'Guilty', 'Happy', 'Hopeless', 'Anxious', 'Stressed',\n",
            "       'Overwhelmed', 'Angry', 'Calm', 'Energetic', 'Lonely', 'In pain',\n",
            "       'Dizzy', 'Nauseous', 'Racing Heart', 'Look forward completing tasks',\n",
            "       'Satisfied with myself', 'Satisfied with my physical appearance',\n",
            "       'Cravings', 'Crave_Food', 'Enjoying moment', 'With how many people',\n",
            "       'Eating', 'Eating_healthy', 'In control', 'Concentrated', 'Worried',\n",
            "       'WrongDoing', 'Impulsivity'],\n",
            "      dtype='object')\n",
            "Number of samples: 180\n",
            "Number of Names: 187\n",
            "Shape of np_samples: (180, 120, 29)\n"
          ]
        }
      ],
      "source": [
        "data=load_data('../Data/PreProcessed/29var/df29.xlsx')"
      ]
    },
    {
      "cell_type": "code",
      "execution_count": 3,
      "metadata": {},
      "outputs": [
        {
          "name": "stdout",
          "output_type": "stream",
          "text": [
            "Parameter Sequence Length: 120\n",
            "Parameter Number of Features: 29\n"
          ]
        }
      ],
      "source": [
        "sequence_length = data.shape[1]\n",
        "print('Parameter Sequence Length:',sequence_length)\n",
        "number_of_features = data.shape[2]\n",
        "print('Parameter Number of Features:',number_of_features)\n",
        "Y_temporal=[len(x) for x in data]\n",
        "params['input_dim'] = number_of_features\n",
        "params['max_seq_len'] = sequence_length"
      ]
    },
    {
      "cell_type": "code",
      "execution_count": 4,
      "metadata": {},
      "outputs": [
        {
          "data": {
            "text/plain": [
              "(180, 120, 29)"
            ]
          },
          "execution_count": 4,
          "metadata": {},
          "output_type": "execute_result"
        }
      ],
      "source": [
        "data.shape"
      ]
    },
    {
      "cell_type": "code",
      "execution_count": 5,
      "metadata": {},
      "outputs": [],
      "source": [
        "model=TimeGAN(params)"
      ]
    },
    {
      "cell_type": "code",
      "execution_count": 6,
      "metadata": {},
      "outputs": [],
      "source": [
        "dataset=TimeGANDataset(data,Y_temporal)\n",
        "dataloader=torch.utils.data.DataLoader(dataset,batch_size=params['batch_size'],shuffle=True)"
      ]
    },
    {
      "cell_type": "code",
      "execution_count": 7,
      "metadata": {},
      "outputs": [],
      "source": [
        "for i, data in enumerate(dataloader):\n",
        "    break"
      ]
    },
    {
      "cell_type": "code",
      "execution_count": 8,
      "metadata": {},
      "outputs": [
        {
          "data": {
            "text/plain": [
              "torch.Size([10, 120, 29])"
            ]
          },
          "execution_count": 8,
          "metadata": {},
          "output_type": "execute_result"
        }
      ],
      "source": [
        "data[0].shape"
      ]
    },
    {
      "cell_type": "code",
      "execution_count": 9,
      "metadata": {},
      "outputs": [
        {
          "data": {
            "text/plain": [
              "torch.Size([10, 120, 64])"
            ]
          },
          "execution_count": 9,
          "metadata": {},
          "output_type": "execute_result"
        }
      ],
      "source": [
        "model.embedder(data[0],data[1]).shape"
      ]
    },
    {
      "cell_type": "code",
      "execution_count": 10,
      "metadata": {},
      "outputs": [],
      "source": [
        "Z = torch.randn(32, 200, 50)  # (batch_size, seq_len, Z_dim)"
      ]
    },
    {
      "cell_type": "code",
      "execution_count": 11,
      "metadata": {},
      "outputs": [
        {
          "data": {
            "text/plain": [
              "torch.Size([32, 200, 64])"
            ]
          },
          "execution_count": 11,
          "metadata": {},
          "output_type": "execute_result"
        }
      ],
      "source": [
        "model.generator(Z).shape"
      ]
    },
    {
      "cell_type": "code",
      "execution_count": 17,
      "metadata": {},
      "outputs": [
        {
          "data": {
            "text/plain": [
              "torch.Size([10, 120])"
            ]
          },
          "execution_count": 17,
          "metadata": {},
          "output_type": "execute_result"
        }
      ],
      "source": [
        "model.discriminator(model.embedder(data[0],data[1])).shape"
      ]
    },
    {
      "cell_type": "code",
      "execution_count": 20,
      "metadata": {},
      "outputs": [
        {
          "data": {
            "text/plain": [
              "torch.Size([10, 120, 29])"
            ]
          },
          "execution_count": 20,
          "metadata": {},
          "output_type": "execute_result"
        }
      ],
      "source": [
        "model.recovery(model.embedder(data[0],data[1])).shape"
      ]
    },
    {
      "cell_type": "code",
      "execution_count": 22,
      "metadata": {},
      "outputs": [
        {
          "data": {
            "text/plain": [
              "torch.Size([32, 200, 29])"
            ]
          },
          "execution_count": 22,
          "metadata": {},
          "output_type": "execute_result"
        }
      ],
      "source": [
        "model.forward(X=None, T=params['max_seq_len'],Z=Z, obj='inference').shape"
      ]
    },
    {
      "cell_type": "code",
      "execution_count": null,
      "metadata": {},
      "outputs": [],
      "source": []
    }
  ],
  "metadata": {
    "kernelspec": {
      "display_name": "mikasa",
      "language": "python",
      "name": "python3"
    },
    "language_info": {
      "codemirror_mode": {
        "name": "ipython",
        "version": 3
      },
      "file_extension": ".py",
      "mimetype": "text/x-python",
      "name": "python",
      "nbconvert_exporter": "python",
      "pygments_lexer": "ipython3",
      "version": "3.11.5"
    }
  },
  "nbformat": 4,
  "nbformat_minor": 2
}

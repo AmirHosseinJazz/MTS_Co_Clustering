{
  "cells": [
    {
      "cell_type": "code",
      "execution_count": 1,
      "metadata": {},
      "outputs": [],
      "source": [
        "import os\n",
        "import numpy as np\n",
        "import torch\n",
        "from torch.utils.data import DataLoader, TensorDataset\n",
        "import torch.optim as optim\n",
        "import wandb\n",
        "from util import load_data\n",
        "from TimeGAN import TimeGAN\n",
        "from train import embedding_trainer, supervisor_trainer, joint_trainer\n",
        "from dataset import TimeGANDataset\n",
        "\n",
        "params = {\n",
        "    'Z_dim': 50,\n",
        "    'hidden_dim': 64,\n",
        "    'batch_size': 10,\n",
        "    'dis_thresh': 0.15,\n",
        "    'num_layers': 5,\n",
        "    'embedder_epoch': 2,\n",
        "    'supervisor_epochs': 2,\n",
        "    'padding_value': -1,\n",
        "    'module': 'GRU',\n",
        "    'device': 'cpu',\n",
        "    'data_source': '12var'\n",
        "}"
      ]
    },
    {
      "cell_type": "code",
      "execution_count": 2,
      "metadata": {},
      "outputs": [
        {
          "name": "stdout",
          "output_type": "stream",
          "text": [
            "Number of samples: 617\n",
            "Shape of _samples: (617, 60, 24)\n"
          ]
        }
      ],
      "source": [
        "data=load_data('../Data/PreProcessed/29var/df29.xlsx',break_to_smaller=True,break_size=60)"
      ]
    },
    {
      "cell_type": "code",
      "execution_count": 4,
      "metadata": {},
      "outputs": [
        {
          "data": {
            "text/plain": [
              "(617, 60, 24)"
            ]
          },
          "execution_count": 4,
          "metadata": {},
          "output_type": "execute_result"
        }
      ],
      "source": [
        "data.shape"
      ]
    },
    {
      "cell_type": "code",
      "execution_count": null,
      "metadata": {},
      "outputs": [],
      "source": [
        "sequence_length = data.shape[1]\n",
        "print('Parameter Sequence Length:',sequence_length)\n",
        "number_of_features = data.shape[2]\n",
        "print('Parameter Number of Features:',number_of_features)\n",
        "Y_temporal=[len(x) for x in data]\n",
        "params['input_dim'] = number_of_features\n",
        "params['max_seq_len'] = sequence_length"
      ]
    },
    {
      "cell_type": "code",
      "execution_count": null,
      "metadata": {},
      "outputs": [],
      "source": [
        "data.shape"
      ]
    },
    {
      "cell_type": "code",
      "execution_count": null,
      "metadata": {},
      "outputs": [],
      "source": [
        "model=TimeGAN(params)"
      ]
    },
    {
      "cell_type": "code",
      "execution_count": null,
      "metadata": {},
      "outputs": [],
      "source": [
        "dataset=TimeGANDataset(data,Y_temporal)\n",
        "dataloader=torch.utils.data.DataLoader(dataset,batch_size=params['batch_size'],shuffle=True)"
      ]
    },
    {
      "cell_type": "code",
      "execution_count": null,
      "metadata": {},
      "outputs": [],
      "source": [
        "for i, data in enumerate(dataloader):\n",
        "    break"
      ]
    },
    {
      "cell_type": "code",
      "execution_count": null,
      "metadata": {},
      "outputs": [],
      "source": [
        "data[0].shape"
      ]
    },
    {
      "cell_type": "code",
      "execution_count": null,
      "metadata": {},
      "outputs": [],
      "source": [
        "model.embedder(data[0],data[1]).shape"
      ]
    },
    {
      "cell_type": "code",
      "execution_count": null,
      "metadata": {},
      "outputs": [],
      "source": [
        "Z = torch.randn(32, 200, 50)  # (batch_size, seq_len, Z_dim)"
      ]
    },
    {
      "cell_type": "code",
      "execution_count": null,
      "metadata": {},
      "outputs": [],
      "source": [
        "model.generator(Z).shape"
      ]
    },
    {
      "cell_type": "code",
      "execution_count": null,
      "metadata": {},
      "outputs": [],
      "source": [
        "model.discriminator(model.embedder(data[0],data[1])).shape"
      ]
    },
    {
      "cell_type": "code",
      "execution_count": null,
      "metadata": {},
      "outputs": [],
      "source": [
        "model.recovery(model.embedder(data[0],data[1])).shape"
      ]
    },
    {
      "cell_type": "code",
      "execution_count": null,
      "metadata": {},
      "outputs": [],
      "source": [
        "model.forward(X=None, T=params['max_seq_len'],Z=Z, obj='inference').shape"
      ]
    },
    {
      "cell_type": "code",
      "execution_count": null,
      "metadata": {},
      "outputs": [],
      "source": []
    }
  ],
  "metadata": {
    "kernelspec": {
      "display_name": "mikasa",
      "language": "python",
      "name": "python3"
    },
    "language_info": {
      "codemirror_mode": {
        "name": "ipython",
        "version": 3
      },
      "file_extension": ".py",
      "mimetype": "text/x-python",
      "name": "python",
      "nbconvert_exporter": "python",
      "pygments_lexer": "ipython3",
      "version": "3.11.5"
    }
  },
  "nbformat": 4,
  "nbformat_minor": 2
}
